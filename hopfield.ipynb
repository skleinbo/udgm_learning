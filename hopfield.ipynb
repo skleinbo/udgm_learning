{
 "cells": [
  {
   "cell_type": "code",
   "execution_count": 1,
   "metadata": {},
   "outputs": [
    {
     "name": "stderr",
     "output_type": "stream",
     "text": [
      "\u001b[32m\u001b[1m  Activating\u001b[22m\u001b[39m project at `~/Documents/Code/udgm_learning`\n"
     ]
    }
   ],
   "source": [
    "import Pkg\n",
    "Pkg.activate(\".\")"
   ]
  },
  {
   "cell_type": "code",
   "execution_count": 2,
   "metadata": {},
   "outputs": [],
   "source": [
    "using Revise\n",
    "import Distributions\n",
    "import LinearAlgebra: dot\n",
    "\n",
    "import MLDatasets\n",
    "using MLUtils\n",
    "using Flux.Losses\n",
    "\n",
    "using Images\n",
    "using StatsBase\n",
    "\n",
    "using ProgressMeter"
   ]
  },
  {
   "cell_type": "code",
   "execution_count": 3,
   "metadata": {},
   "outputs": [],
   "source": [
    "includet(\"hopfield.jl\")"
   ]
  },
  {
   "cell_type": "markdown",
   "metadata": {},
   "source": [
    "__!! Definitions and training code is found in `hopfield.jl` !!__"
   ]
  },
  {
   "cell_type": "markdown",
   "metadata": {},
   "source": [
    "# Train and recall on MNIST"
   ]
  },
  {
   "cell_type": "markdown",
   "metadata": {},
   "source": [
    "## Load MNIST samples"
   ]
  },
  {
   "cell_type": "code",
   "execution_count": 4,
   "metadata": {},
   "outputs": [],
   "source": [
    "mnist = round.(Int, MLDatasets.MNIST(:train).features[:,:,1:1000]);"
   ]
  },
  {
   "cell_type": "code",
   "execution_count": 5,
   "metadata": {},
   "outputs": [
    {
     "data": {
      "image/png": "[encoded data removed]",
      "text/html": [
       "<img src=\"data:image/png;base64,iVBORw0KGgoAAAANSUhEUgAAAIwAAABwCAAAAADp+8eAAAAABGdBTUEAALGPC/xhBQAAAAFzUkdCAK7OHOkAAAAgY0hSTQAAeiYAAICEAAD6AAAAgOgAAHUwAADqYAAAOpgAABdwnLpRPAAABDlJREFUaAXNwQFyqlgABMCeqnf/K88CYgRFE3+SDd3DiQwnMpzI8Gsq3jM80fjfDcfqDwy/pb6oiNlwqB6U+IbGoZo0JsNFxSs1afyzqjgUtRiuGq+lfk6Je8NV3NSdEv+mMYtqrEo8GBalxE1slPg31VjFTVxUSM2Gjcai9kqoeFttNC4qtmoxfEg1JkXclDhWV3GkvqJiNlxFtLGInaDURazqQ63iXbUa9hr1mYpFzOpIqhaNV0oshq3UIu7VLBbVuImLxoOoixIfKj7ExTArGqT1IK1JXKWOxE5KzBpqI6WuYjVcxEYciJv4ijRIqTtRV3E1zFKr1IMi/kHsxEYoqfgwzOpDPEjjB8SduDN8QXxHahafGn5fNJ6Jm2EWvyu+ZDiR4USGvxUbw4kMJzKcyHAiw4kMJzK8qeK3DG+ppxrfNezUKo7UpHGgXqh4ocRk2KgPjUOpOFDxTFHxTNFguCliUvcak4pj9URdNY7VrGH4UGKR2ikN9UyJWWOrZjGpOxWTEmo2rIp4Kiah4l5dVeOmXiopMQuGz9WiDtWiUcRNEZN6UIta1GK4KGJV4lDFXhGqJvGhiFkdSl2UmA2LIo4Vsai4EzdxU8SspMS9qEldDbMiNmInFvVKbBQxK3Eg1CJWw6QmjVXdias4Vg/iM0VsDA9KPKjn6l5dlah4UMTWcBFXJfbqpSK1F4sSFQ9K7A2TVMWixKGoA0WIrdioOBJ3hllUrWIvrtLGTs3iqVQ9qEncGy5Sq/i6Il5KiUfxaFiFmsQLaeOmiE/Eozg03MTb4icN74mN+FnDW+I3DScynMhwIsOJDCcybBTxd4ZV/b3hoiahjT8zXMQPaHzL8HOq4huGn5OK7xh+UNr4huFO/I/qIhbDd1RMKlaNLyuxaMyGnbpXs3iiYtK4V+K5IlZpTIYvqVVs1KSpJ2ovPpS4N7ynxF5d1UaovcaqYlZxM+zFnZjVTcVFaqMmsRFbFauKWWNr+JKY1VO1iOfiqmKnFsNWUYt4FLWT2omvqNipmA0bpVaNA7GXRqMm8bZUqFgMV7UK6otCiHfEh7SIi+GiZrGK/0lsDLMi/twwi1MYTmQ4keFEhhMZTmQ4keFEhhMZTmQ4keFdFb9keFNpHGkcaXzV8FOq8aA0vmh4U0rjQNq4UzuN55rhQE3iqjGreCEe1SRWpfFEMTyovWr8u1gV8USJ4U49UR/iToljcVGT2KhJzIow7NUi3lE0dSBuYqs+lJgMOzWJt6VKPFGT2CpRsxKzYaNmsVOfaUiJOxWzIu7FpCZxMXyoWRyrixI7NYun6lHdxGq4qkm80qh79YkiHoQiboZVEU/VrCZxJ44VNYkDDbEzLGoSz9RNvKEm8ShV94ZZEa/FoYrX4pnYG1bxS+JQPBpm8VxqEu9LiTcMn4oX6oV4z/Bd8WOGExlOZPie+EHDifwHDnRt1yddANgAAAAASUVORK5C\">"
      ],
      "text/plain": [
       "112×140 MosaicView{Gray{N0f8}, 4, Base.ReshapedArray{Gray{N0f8}, 4, PaddedView{Gray{N0f8}, 3, Tuple{Base.OneTo{Int64}, Base.OneTo{Int64}, Base.OneTo{Int64}}, Array{Gray{N0f8}, 3}}, Tuple{Base.MultiplicativeInverses.SignedMultiplicativeInverse{Int64}, Base.MultiplicativeInverses.SignedMultiplicativeInverse{Int64}}}}:\n",
       " Gray{N0f8}(0.0)  Gray{N0f8}(0.0)  …  Gray{N0f8}(0.0)  Gray{N0f8}(0.0)\n",
       " Gray{N0f8}(0.0)  Gray{N0f8}(0.0)     Gray{N0f8}(0.0)  Gray{N0f8}(0.0)\n",
       " Gray{N0f8}(0.0)  Gray{N0f8}(0.0)     Gray{N0f8}(0.0)  Gray{N0f8}(0.0)\n",
       " Gray{N0f8}(0.0)  Gray{N0f8}(0.0)     Gray{N0f8}(0.0)  Gray{N0f8}(0.0)\n",
       " Gray{N0f8}(0.0)  Gray{N0f8}(0.0)     Gray{N0f8}(0.0)  Gray{N0f8}(0.0)\n",
       " Gray{N0f8}(0.0)  Gray{N0f8}(0.0)  …  Gray{N0f8}(0.0)  Gray{N0f8}(0.0)\n",
       " Gray{N0f8}(0.0)  Gray{N0f8}(0.0)     Gray{N0f8}(0.0)  Gray{N0f8}(0.0)\n",
       " Gray{N0f8}(0.0)  Gray{N0f8}(0.0)     Gray{N0f8}(0.0)  Gray{N0f8}(0.0)\n",
       " Gray{N0f8}(0.0)  Gray{N0f8}(0.0)     Gray{N0f8}(0.0)  Gray{N0f8}(0.0)\n",
       " Gray{N0f8}(0.0)  Gray{N0f8}(0.0)     Gray{N0f8}(0.0)  Gray{N0f8}(0.0)\n",
       " Gray{N0f8}(0.0)  Gray{N0f8}(0.0)  …  Gray{N0f8}(0.0)  Gray{N0f8}(0.0)\n",
       " Gray{N0f8}(0.0)  Gray{N0f8}(0.0)     Gray{N0f8}(0.0)  Gray{N0f8}(0.0)\n",
       " Gray{N0f8}(0.0)  Gray{N0f8}(0.0)     Gray{N0f8}(0.0)  Gray{N0f8}(0.0)\n",
       " ⋮                                 ⋱                   \n",
       " Gray{N0f8}(0.0)  Gray{N0f8}(0.0)  …  Gray{N0f8}(0.0)  Gray{N0f8}(0.0)\n",
       " Gray{N0f8}(0.0)  Gray{N0f8}(0.0)     Gray{N0f8}(0.0)  Gray{N0f8}(0.0)\n",
       " Gray{N0f8}(0.0)  Gray{N0f8}(0.0)     Gray{N0f8}(0.0)  Gray{N0f8}(0.0)\n",
       " Gray{N0f8}(0.0)  Gray{N0f8}(0.0)     Gray{N0f8}(0.0)  Gray{N0f8}(0.0)\n",
       " Gray{N0f8}(0.0)  Gray{N0f8}(0.0)     Gray{N0f8}(0.0)  Gray{N0f8}(0.0)\n",
       " Gray{N0f8}(0.0)  Gray{N0f8}(0.0)  …  Gray{N0f8}(0.0)  Gray{N0f8}(0.0)\n",
       " Gray{N0f8}(0.0)  Gray{N0f8}(0.0)     Gray{N0f8}(0.0)  Gray{N0f8}(0.0)\n",
       " Gray{N0f8}(0.0)  Gray{N0f8}(0.0)     Gray{N0f8}(0.0)  Gray{N0f8}(0.0)\n",
       " Gray{N0f8}(0.0)  Gray{N0f8}(0.0)     Gray{N0f8}(0.0)  Gray{N0f8}(0.0)\n",
       " Gray{N0f8}(0.0)  Gray{N0f8}(0.0)     Gray{N0f8}(0.0)  Gray{N0f8}(0.0)\n",
       " Gray{N0f8}(0.0)  Gray{N0f8}(0.0)  …  Gray{N0f8}(0.0)  Gray{N0f8}(0.0)\n",
       " Gray{N0f8}(0.0)  Gray{N0f8}(0.0)     Gray{N0f8}(0.0)  Gray{N0f8}(0.0)"
      ]
     },
     "execution_count": 5,
     "metadata": {},
     "output_type": "execute_result"
    }
   ],
   "source": [
    "mosaicview(Gray.(mnist[:,:,1:20]), nrow=4)"
   ]
  },
  {
   "cell_type": "code",
   "execution_count": 229,
   "metadata": {},
   "outputs": [],
   "source": [
    "r, c = size(mnist)[1:2]\n",
    "nsamples = floor(Int, 0.005*r*c)\n",
    "\n",
    "## MNIST patterns\n",
    "pattern = Int.(mnist[:,:,1:nsamples]);\n",
    "vpattern = pattern_to_vector(pattern) # pattern as vector rather than matrix\n",
    "## random patterns\n",
    "# pattern = rand([0,1], r, c, nsamples)\n",
    "\n",
    "## Add noise to pattern / obscure parts\n",
    "pattern_masked = copy(pattern)\n",
    "# pattern_masked[:,1:1*size(pattern_masked,2)÷2,:] .= 0\n",
    "pattern_masked .+= rand(Distributions.Bernoulli(0.05), size(pattern_masked))\n",
    "# pattern_masked[rand(1:r*c, size(pattern,3)).+(1:r*c:length(pattern))] .+= 1\n",
    "pattern_masked .%= 2;\n",
    "vpattern_masked = pattern_to_vector(pattern);"
   ]
  },
  {
   "cell_type": "markdown",
   "metadata": {},
   "source": [
    "## Hebbian learning"
   ]
  },
  {
   "cell_type": "markdown",
   "metadata": {},
   "source": [
    "In a heuristic approach, the weights are set to $W_{ij} = \\sum_n x^{(n)}_ix^{(n)}_j$ where the sum is over all patterns to be stored."
   ]
  },
  {
   "cell_type": "code",
   "execution_count": 240,
   "metadata": {
    "editable": true,
    "slideshow": {
     "slide_type": ""
    },
    "tags": []
   },
   "outputs": [
    {
     "name": "stdout",
     "output_type": "stream",
     "text": [
      "  0.012051 seconds (35 allocations: 81.328 KiB)\n"
     ]
    }
   ],
   "source": [
    "H_binary = BinaryHopfieldNetwork(r*c)\n",
    "train_hebbe!(H_binary, vpattern)\n",
    "\n",
    "@time recalls = round.(Int, recall!(H_binary, vpattern_masked; maxiter=100).+1).÷2\n",
    "# recalls = recall!(H, pattern_to_vector(pattern_masked); maxiter=100)\n",
    "recalls = reshape(recalls, r, c, size(recalls, 2));"
   ]
  },
  {
   "cell_type": "markdown",
   "metadata": {},
   "source": [
    "__Hebbe learning performs poorly on correlated patterns__"
   ]
  },
  {
   "cell_type": "code",
   "execution_count": 241,
   "metadata": {},
   "outputs": [
    {
     "data": {
      "image/png": "[encoded data removed]",
      "text/html": [
       "<img src=\"data:image/png;base64,iVBORw0KGgoAAAANSUhEUgAAAPwAAABUCAAAAACDjwU4AAAABGdBTUEAALGPC/xhBQAAAAFzUkdCAK7OHOkAAAAgY0hSTQAAeiYAAICEAAD6AAAAgOgAAHUwAADqYAAAOpgAABdwnLpRPAAAAYBJREFUeAHlwYmK3EAAQ8En0P//soLB0HjiXh9zbaIqU8wUM8VMMVPMFDPFTDFTzPxHwiCOmWKmmHmRgPiCcJ8pZoqZVwjfETbEKhAQB0wxU8z8y8RTTDFTzDwt3BemxNuZYqaY2RMW4o3CgYB4L1PMFDNzAfEWYRAb4XNMMVPMzIlj4bKwEjsE4QXEMVPMFDN/CauwEsfEsTCI7zPFTDFzQkDsCL9ROMsUM8XMjwRhERAbYRDHwiCmwkq8nSlmipk5sRCLQEDsEMfCIH4LU8wUM1cExCJcEAZxiniKOMUUM8XMOYKwQxwIGwExFT7KFDPFzFYYAmIQBMK7hJW4LwxhhxhMMVPM7BGniAvET8JK3BdWYSogVqaYKWa2BGFKEK4RhEVYiB1hJe4IU2IIj0wxU8xshQPiMrEIizAlLguPxJR4ZIqZYuZTBGFKXBMGcZMpZoqZDxKrsCEuEy9gipliZkt8gvgVTDFTzBQzxUwxU8wUM8VMMVPMFDPFTDFT7A9TD0FQbhtJaQAAAABJRU5ErkJg\">"
      ],
      "text/plain": [
       "28×84 MosaicView{Gray{N0f8}, 4, Base.ReshapedArray{Gray{N0f8}, 4, PaddedView{Gray{N0f8}, 3, Tuple{Base.OneTo{Int64}, Base.OneTo{Int64}, Base.OneTo{Int64}}, Array{Gray{N0f8}, 3}}, Tuple{Base.MultiplicativeInverses.SignedMultiplicativeInverse{Int64}, Base.MultiplicativeInverses.SignedMultiplicativeInverse{Int64}}}}:\n",
       " Gray{N0f8}(0.0)  Gray{N0f8}(0.0)  …  Gray{N0f8}(0.0)  Gray{N0f8}(0.0)\n",
       " Gray{N0f8}(0.0)  Gray{N0f8}(0.0)     Gray{N0f8}(0.0)  Gray{N0f8}(0.0)\n",
       " Gray{N0f8}(0.0)  Gray{N0f8}(0.0)     Gray{N0f8}(0.0)  Gray{N0f8}(0.0)\n",
       " Gray{N0f8}(0.0)  Gray{N0f8}(0.0)     Gray{N0f8}(0.0)  Gray{N0f8}(0.0)\n",
       " Gray{N0f8}(0.0)  Gray{N0f8}(0.0)     Gray{N0f8}(0.0)  Gray{N0f8}(0.0)\n",
       " Gray{N0f8}(0.0)  Gray{N0f8}(0.0)  …  Gray{N0f8}(0.0)  Gray{N0f8}(0.0)\n",
       " Gray{N0f8}(0.0)  Gray{N0f8}(0.0)     Gray{N0f8}(0.0)  Gray{N0f8}(0.0)\n",
       " Gray{N0f8}(0.0)  Gray{N0f8}(0.0)     Gray{N0f8}(0.0)  Gray{N0f8}(0.0)\n",
       " Gray{N0f8}(0.0)  Gray{N0f8}(0.0)     Gray{N0f8}(0.0)  Gray{N0f8}(0.0)\n",
       " Gray{N0f8}(0.0)  Gray{N0f8}(0.0)     Gray{N0f8}(0.0)  Gray{N0f8}(0.0)\n",
       " Gray{N0f8}(0.0)  Gray{N0f8}(0.0)  …  Gray{N0f8}(0.0)  Gray{N0f8}(0.0)\n",
       " Gray{N0f8}(0.0)  Gray{N0f8}(0.0)     Gray{N0f8}(0.0)  Gray{N0f8}(0.0)\n",
       " Gray{N0f8}(0.0)  Gray{N0f8}(0.0)     Gray{N0f8}(0.0)  Gray{N0f8}(0.0)\n",
       " ⋮                                 ⋱                   \n",
       " Gray{N0f8}(0.0)  Gray{N0f8}(0.0)     Gray{N0f8}(0.0)  Gray{N0f8}(0.0)\n",
       " Gray{N0f8}(0.0)  Gray{N0f8}(0.0)     Gray{N0f8}(0.0)  Gray{N0f8}(0.0)\n",
       " Gray{N0f8}(0.0)  Gray{N0f8}(0.0)     Gray{N0f8}(0.0)  Gray{N0f8}(0.0)\n",
       " Gray{N0f8}(0.0)  Gray{N0f8}(0.0)     Gray{N0f8}(0.0)  Gray{N0f8}(0.0)\n",
       " Gray{N0f8}(0.0)  Gray{N0f8}(0.0)  …  Gray{N0f8}(0.0)  Gray{N0f8}(0.0)\n",
       " Gray{N0f8}(0.0)  Gray{N0f8}(0.0)     Gray{N0f8}(0.0)  Gray{N0f8}(0.0)\n",
       " Gray{N0f8}(0.0)  Gray{N0f8}(0.0)     Gray{N0f8}(0.0)  Gray{N0f8}(0.0)\n",
       " Gray{N0f8}(0.0)  Gray{N0f8}(0.0)     Gray{N0f8}(0.0)  Gray{N0f8}(0.0)\n",
       " Gray{N0f8}(0.0)  Gray{N0f8}(0.0)     Gray{N0f8}(0.0)  Gray{N0f8}(0.0)\n",
       " Gray{N0f8}(0.0)  Gray{N0f8}(0.0)  …  Gray{N0f8}(0.0)  Gray{N0f8}(0.0)\n",
       " Gray{N0f8}(0.0)  Gray{N0f8}(0.0)     Gray{N0f8}(0.0)  Gray{N0f8}(0.0)\n",
       " Gray{N0f8}(0.0)  Gray{N0f8}(0.0)     Gray{N0f8}(0.0)  Gray{N0f8}(0.0)"
      ]
     },
     "metadata": {},
     "output_type": "display_data"
    },
    {
     "data": {
      "image/png": "[encoded data removed]",
      "text/html": [
       "<img src=\"data:image/png;base64,iVBORw0KGgoAAAANSUhEUgAAAPwAAABUCAAAAACDjwU4AAAABGdBTUEAALGPC/xhBQAAAAFzUkdCAK7OHOkAAAAgY0hSTQAAeiYAAICEAAD6AAAAgOgAAHUwAADqYAAAOpgAABdwnLpRPAAAAr5JREFUeAHlwVGO40YUBDAW8O5/5Qo60EKQV7bHzuSryfFHiVOJX1biqRL/ixI3xsbGxsYfcRGHEm+UOJT4RnygxE/FvbGxsbHxlxKneC9Oca/EGyV+JA4llPjY2NjY2PhLHEoo8QvivfiREodQYqlT3CtxGBsbGxvPxRI/UuIzJe6VeCpOtdSjEjfiNDY2NjZ+Q30jlhKP4l4JJZa6iEOJixKHEsvY2NjY+KPE9+JLca/Eo1jiEE+VOMUpDmNjY2PjXyW+VEuJj9VTcSihxE+Fem9sbGxsSoiLWuJRid9RS6h7JdQhPlA/MjY2NjZxI5RaYikhfkcdSihxqIv4TSWWEsbGxsbGVQm1xCnu1ffiEKdQvyBeiWVsbGxsXIU61RI3SrxS4qL+qxLfi4uxsbGx8a8Sj+pQ4qKEOsWjOJR4FE+Fuhfv1aHEqcTF2NjY2JQQr4QSp1CneCWWEmqJp+oQ/1UsJZZ4NDY2NjbxKNQSh1pKXIQS79VSj0qc6gMlXikhnhobGxsbf6lHsZQSSy31I3WKi7gItcRSYilxUeKpWOJQ4sbY2NjYeKnEK/FGnUKJp+pQQhziVEJ8IA4lTmNjY2Pjqk4lTqHUKR6VeKpOJS7qEK/EK3Wqi3g0NjY2Nu7Ej5S4iKfiIi7qF9ShbpRQ4jA2NjY2rkI9FeoU74VaaokbdYhv1FNxKnUxNjY2NiVO9UacSrwXSx3qXnysHsVT8WhsbGxs4l6JQ4kb8bG6ER+rUzxV4qmxsbGxKXEjTvGxEkoc4lT/VfxIHEo8GhsbG5u4CHUq8Y14JU71SomlxGdKHOLG2NjY2PhLnOKVWuKpeC9ulFjiEB+LN8bGxsbGVYkPxP8iPlDiUOKVEkoYGxsbG1fxgbhRYinxC0q8Eqc4lVhKHGKJZWxsbGz8tjjEN0pcxJdCCXFvbGxs7B+Z6LGSv+vP5wAAAABJRU5ErkJg\">"
      ],
      "text/plain": [
       "28×84 MosaicView{Gray{N0f8}, 4, Base.ReshapedArray{Gray{N0f8}, 4, PaddedView{Gray{N0f8}, 3, Tuple{Base.OneTo{Int64}, Base.OneTo{Int64}, Base.OneTo{Int64}}, Array{Gray{N0f8}, 3}}, Tuple{Base.MultiplicativeInverses.SignedMultiplicativeInverse{Int64}, Base.MultiplicativeInverses.SignedMultiplicativeInverse{Int64}}}}:\n",
       " Gray{N0f8}(0.0)  Gray{N0f8}(0.0)  …  Gray{N0f8}(0.0)  Gray{N0f8}(0.0)\n",
       " Gray{N0f8}(0.0)  Gray{N0f8}(0.0)     Gray{N0f8}(0.0)  Gray{N0f8}(0.0)\n",
       " Gray{N0f8}(0.0)  Gray{N0f8}(0.0)     Gray{N0f8}(0.0)  Gray{N0f8}(0.0)\n",
       " Gray{N0f8}(0.0)  Gray{N0f8}(0.0)     Gray{N0f8}(0.0)  Gray{N0f8}(0.0)\n",
       " Gray{N0f8}(0.0)  Gray{N0f8}(0.0)     Gray{N0f8}(0.0)  Gray{N0f8}(0.0)\n",
       " Gray{N0f8}(0.0)  Gray{N0f8}(0.0)  …  Gray{N0f8}(0.0)  Gray{N0f8}(0.0)\n",
       " Gray{N0f8}(0.0)  Gray{N0f8}(0.0)     Gray{N0f8}(0.0)  Gray{N0f8}(0.0)\n",
       " Gray{N0f8}(0.0)  Gray{N0f8}(0.0)     Gray{N0f8}(0.0)  Gray{N0f8}(0.0)\n",
       " Gray{N0f8}(1.0)  Gray{N0f8}(0.0)     Gray{N0f8}(0.0)  Gray{N0f8}(0.0)\n",
       " Gray{N0f8}(0.0)  Gray{N0f8}(0.0)     Gray{N0f8}(1.0)  Gray{N0f8}(0.0)\n",
       " Gray{N0f8}(0.0)  Gray{N0f8}(0.0)  …  Gray{N0f8}(0.0)  Gray{N0f8}(0.0)\n",
       " Gray{N0f8}(0.0)  Gray{N0f8}(0.0)     Gray{N0f8}(0.0)  Gray{N0f8}(0.0)\n",
       " Gray{N0f8}(0.0)  Gray{N0f8}(0.0)     Gray{N0f8}(0.0)  Gray{N0f8}(0.0)\n",
       " ⋮                                 ⋱                   \n",
       " Gray{N0f8}(0.0)  Gray{N0f8}(0.0)     Gray{N0f8}(0.0)  Gray{N0f8}(0.0)\n",
       " Gray{N0f8}(0.0)  Gray{N0f8}(0.0)     Gray{N0f8}(0.0)  Gray{N0f8}(0.0)\n",
       " Gray{N0f8}(0.0)  Gray{N0f8}(0.0)     Gray{N0f8}(0.0)  Gray{N0f8}(0.0)\n",
       " Gray{N0f8}(0.0)  Gray{N0f8}(0.0)     Gray{N0f8}(0.0)  Gray{N0f8}(0.0)\n",
       " Gray{N0f8}(1.0)  Gray{N0f8}(0.0)  …  Gray{N0f8}(0.0)  Gray{N0f8}(0.0)\n",
       " Gray{N0f8}(0.0)  Gray{N0f8}(0.0)     Gray{N0f8}(0.0)  Gray{N0f8}(0.0)\n",
       " Gray{N0f8}(1.0)  Gray{N0f8}(0.0)     Gray{N0f8}(0.0)  Gray{N0f8}(0.0)\n",
       " Gray{N0f8}(0.0)  Gray{N0f8}(0.0)     Gray{N0f8}(0.0)  Gray{N0f8}(0.0)\n",
       " Gray{N0f8}(0.0)  Gray{N0f8}(0.0)     Gray{N0f8}(0.0)  Gray{N0f8}(0.0)\n",
       " Gray{N0f8}(0.0)  Gray{N0f8}(0.0)  …  Gray{N0f8}(1.0)  Gray{N0f8}(0.0)\n",
       " Gray{N0f8}(0.0)  Gray{N0f8}(0.0)     Gray{N0f8}(0.0)  Gray{N0f8}(0.0)\n",
       " Gray{N0f8}(0.0)  Gray{N0f8}(0.0)     Gray{N0f8}(0.0)  Gray{N0f8}(0.0)"
      ]
     },
     "metadata": {},
     "output_type": "display_data"
    },
    {
     "data": {
      "image/png": "[encoded data removed]",
      "text/html": [
       "<img src=\"data:image/png;base64,iVBORw0KGgoAAAANSUhEUgAAAPwAAABUCAAAAACDjwU4AAAABGdBTUEAALGPC/xhBQAAAAFzUkdCAK7OHOkAAAAgY0hSTQAAeiYAAICEAAD6AAAAgOgAAHUwAADqYAAAOpgAABdwnLpRPAAAAXZJREFUeAHlwVGK5DAAQ8En0P2vrCVgCO5xOp2s/1RliplippgpZoqZYqaYKWaKmWKmmClmiplippgpZoqZYqaYKWaKmSfCQUwC4r1wEJOAeC8cxCQgJqaYKWZ2CIjNAmKzgDiZYqaYeULsJ/YTPzHFTDHzf8J+Yb+wYIqZYuZCOIk9wknsEU7iGVPMFDPFTDFTzKyEQXwTBnEvDOKbMIh7YRDfhEFMTDFTzPwRBjEJiAVxLwxiEhAL4l4YxCQgFsQnU8wUM8VMMVPMvBUOYqdwEDuFg1gwxUwxMwungDiJITwTTgFxEkN4JpwC4iSGcMMUM8XMilgLE/GAWAsT8YBYCxOxZoqZYmYmCJcEYRC/EoRLgjCIXwnCJUEYxCVTzBQzfwjCJzGINwThkxjEG4LwSQzinilmiplZOAgCYo9wEATEHuEgCIiXTDFTzMzEILYRg9hGDOI9U8wUM8VMMVPMFDPFTDFTzBQzxUwxU8wUM8VMMVPsH92+OmOnuhFpAAAAAElFTkSuQmCC\">"
      ],
      "text/plain": [
       "28×84 MosaicView{Gray{N0f8}, 4, Base.ReshapedArray{Gray{N0f8}, 4, PaddedView{Gray{N0f8}, 3, Tuple{Base.OneTo{Int64}, Base.OneTo{Int64}, Base.OneTo{Int64}}, Array{Gray{N0f8}, 3}}, Tuple{Base.MultiplicativeInverses.SignedMultiplicativeInverse{Int64}, Base.MultiplicativeInverses.SignedMultiplicativeInverse{Int64}}}}:\n",
       " Gray{N0f8}(0.0)  Gray{N0f8}(0.0)  …  Gray{N0f8}(0.0)  Gray{N0f8}(0.0)\n",
       " Gray{N0f8}(0.0)  Gray{N0f8}(0.0)     Gray{N0f8}(0.0)  Gray{N0f8}(0.0)\n",
       " Gray{N0f8}(0.0)  Gray{N0f8}(0.0)     Gray{N0f8}(0.0)  Gray{N0f8}(0.0)\n",
       " Gray{N0f8}(0.0)  Gray{N0f8}(0.0)     Gray{N0f8}(0.0)  Gray{N0f8}(0.0)\n",
       " Gray{N0f8}(0.0)  Gray{N0f8}(0.0)     Gray{N0f8}(0.0)  Gray{N0f8}(0.0)\n",
       " Gray{N0f8}(0.0)  Gray{N0f8}(0.0)  …  Gray{N0f8}(0.0)  Gray{N0f8}(0.0)\n",
       " Gray{N0f8}(0.0)  Gray{N0f8}(0.0)     Gray{N0f8}(0.0)  Gray{N0f8}(0.0)\n",
       " Gray{N0f8}(0.0)  Gray{N0f8}(0.0)     Gray{N0f8}(0.0)  Gray{N0f8}(0.0)\n",
       " Gray{N0f8}(0.0)  Gray{N0f8}(0.0)     Gray{N0f8}(0.0)  Gray{N0f8}(0.0)\n",
       " Gray{N0f8}(0.0)  Gray{N0f8}(0.0)     Gray{N0f8}(0.0)  Gray{N0f8}(0.0)\n",
       " Gray{N0f8}(0.0)  Gray{N0f8}(0.0)  …  Gray{N0f8}(0.0)  Gray{N0f8}(0.0)\n",
       " Gray{N0f8}(0.0)  Gray{N0f8}(0.0)     Gray{N0f8}(0.0)  Gray{N0f8}(0.0)\n",
       " Gray{N0f8}(0.0)  Gray{N0f8}(0.0)     Gray{N0f8}(0.0)  Gray{N0f8}(0.0)\n",
       " ⋮                                 ⋱                   \n",
       " Gray{N0f8}(0.0)  Gray{N0f8}(0.0)     Gray{N0f8}(0.0)  Gray{N0f8}(0.0)\n",
       " Gray{N0f8}(0.0)  Gray{N0f8}(0.0)     Gray{N0f8}(0.0)  Gray{N0f8}(0.0)\n",
       " Gray{N0f8}(0.0)  Gray{N0f8}(0.0)     Gray{N0f8}(0.0)  Gray{N0f8}(0.0)\n",
       " Gray{N0f8}(0.0)  Gray{N0f8}(0.0)     Gray{N0f8}(0.0)  Gray{N0f8}(0.0)\n",
       " Gray{N0f8}(0.0)  Gray{N0f8}(0.0)  …  Gray{N0f8}(0.0)  Gray{N0f8}(0.0)\n",
       " Gray{N0f8}(0.0)  Gray{N0f8}(0.0)     Gray{N0f8}(0.0)  Gray{N0f8}(0.0)\n",
       " Gray{N0f8}(0.0)  Gray{N0f8}(0.0)     Gray{N0f8}(0.0)  Gray{N0f8}(0.0)\n",
       " Gray{N0f8}(0.0)  Gray{N0f8}(0.0)     Gray{N0f8}(0.0)  Gray{N0f8}(0.0)\n",
       " Gray{N0f8}(0.0)  Gray{N0f8}(0.0)     Gray{N0f8}(0.0)  Gray{N0f8}(0.0)\n",
       " Gray{N0f8}(0.0)  Gray{N0f8}(0.0)  …  Gray{N0f8}(0.0)  Gray{N0f8}(0.0)\n",
       " Gray{N0f8}(0.0)  Gray{N0f8}(0.0)     Gray{N0f8}(0.0)  Gray{N0f8}(0.0)\n",
       " Gray{N0f8}(0.0)  Gray{N0f8}(0.0)     Gray{N0f8}(0.0)  Gray{N0f8}(0.0)"
      ]
     },
     "metadata": {},
     "output_type": "display_data"
    }
   ],
   "source": [
    "display(mosaicview(Gray.(pattern),nrow=1))\n",
    "display(mosaicview(Gray.(pattern_masked),nrow=1))\n",
    "display(mosaicview(Gray.(recalls),nrow=1))"
   ]
  },
  {
   "cell_type": "markdown",
   "metadata": {},
   "source": [
    "## Maximum Likelihood"
   ]
  },
  {
   "cell_type": "markdown",
   "metadata": {},
   "source": [
    "Learn the weights of the network by minimizing the _binary cross entropy_ between predictions and examples.\n",
    "\n",
    "A random amount of noise is added to the examples at every epoch of the optimation in order to teach the network to denoise.\n",
    "\n",
    "A continuous version of the Hopfield net with state vector $x_i\\in [-1,1]\\subset R$ is used.\n",
    "\n",
    "__Training may take ~10 minutes.__"
   ]
  },
  {
   "cell_type": "code",
   "execution_count": null,
   "metadata": {},
   "outputs": [],
   "source": [
    "Hmap = ContinuousHopfieldNetwork(r*c)"
   ]
  },
  {
   "cell_type": "code",
   "execution_count": 168,
   "metadata": {
    "editable": true,
    "slideshow": {
     "slide_type": ""
    },
    "tags": []
   },
   "outputs": [
    {
     "name": "stdout",
     "output_type": "stream",
     "text": [
      "(epoch, loss) = (10, 3.9055809750235576e-7)\n",
      "(epoch, loss) = (20, 2.3176423459628738e-7)\n",
      "(epoch, loss) = (30, 3.276376202628072e-7)\n",
      "(epoch, loss) = (40, 4.0734046775240374e-7)\n",
      "(epoch, loss) = (50, 2.5230304896909256e-7)\n",
      "(epoch, loss) = (60, 2.9292714911084066e-7)\n",
      "(epoch, loss) = (70, 1.542120305998572e-7)\n",
      "(epoch, loss) = (80, 4.13907792834156e-7)\n",
      "(epoch, loss) = (90, 4.3401195277392436e-7)\n",
      "(epoch, loss) = (100, 1.2088363280281018e-7)\n",
      " 48.935874 seconds (182.25 k allocations: 2.089 GiB, 0.53% gc time)\n"
     ]
    },
    {
     "data": {
      "text/plain": [
       "ContinuousHopfieldNetwork([0.0 1.0 … 1.0 1.0; 1.0 0.0 … 1.0 1.0; … ; 1.0 1.0 … 0.0 1.0; 1.0 1.0 … 1.0 0.0], [0.0, 0.0, 0.0, 0.0, 0.0, 0.0, 0.0, 0.0, 0.0, 0.0  …  0.0, 0.0, 0.0, 0.0, 0.0, 0.0, 0.0, 0.0, 0.0, 0.0], [-0.9999997835663541, -0.9999997837114029, -0.9999997835404018, -0.9999997835454534, -0.9999997835311818, -0.9999997835360361, -0.9999997836403339, -0.9999997835148615, -0.9999997835910152, -0.9999997835338456  …  -0.9999997834008435, -0.9999997835507691, -0.9999997836065466, -0.9999997836100315, -0.9999997835035939, -0.9999997835014677, -0.999999783622596, -0.9999997836141762, -0.999999783543104, -0.9999997836615666])"
      ]
     },
     "execution_count": 168,
     "metadata": {},
     "output_type": "execute_result"
    }
   ],
   "source": [
    "@time train_map!(Hmap, vpattern; J=0.0/(r*c), pretrain=false, bias=false, p_noise=0.01, epochs=100)"
   ]
  },
  {
   "cell_type": "code",
   "execution_count": 245,
   "metadata": {},
   "outputs": [
    {
     "name": "stdout",
     "output_type": "stream",
     "text": [
      "  0.003598 seconds (27 allocations: 141.672 KiB)\n"
     ]
    }
   ],
   "source": [
    "@time recalls = round.(Int, recall(Hmap.W, Hmap.θ, vpattern_masked; maxiter=100)[2].+1).÷2\n",
    "# recalls = recall!(H, pattern_to_vector(pattern_masked); maxiter=100)\n",
    "recalls = reshape(recalls, r, c, size(recalls, 2));"
   ]
  },
  {
   "cell_type": "code",
   "execution_count": 246,
   "metadata": {},
   "outputs": [
    {
     "data": {
      "image/png": "[encoded data removed]",
      "text/html": [
       "<img src=\"data:image/png;base64,iVBORw0KGgoAAAANSUhEUgAAAPwAAABUCAAAAACDjwU4AAAABGdBTUEAALGPC/xhBQAAAAFzUkdCAK7OHOkAAAAgY0hSTQAAeiYAAICEAAD6AAAAgOgAAHUwAADqYAAAOpgAABdwnLpRPAAAAYBJREFUeAHlwYmK3EAAQ8En0P//soLB0HjiXh9zbaIqU8wUM8VMMVPMFDPFTDFTzPxHwiCOmWKmmHmRgPiCcJ8pZoqZVwjfETbEKhAQB0wxU8z8y8RTTDFTzDwt3BemxNuZYqaY2RMW4o3CgYB4L1PMFDNzAfEWYRAb4XNMMVPMzIlj4bKwEjsE4QXEMVPMFDN/CauwEsfEsTCI7zPFTDFzQkDsCL9ROMsUM8XMjwRhERAbYRDHwiCmwkq8nSlmipk5sRCLQEDsEMfCIH4LU8wUM1cExCJcEAZxiniKOMUUM8XMOYKwQxwIGwExFT7KFDPFzFYYAmIQBMK7hJW4LwxhhxhMMVPM7BGniAvET8JK3BdWYSogVqaYKWa2BGFKEK4RhEVYiB1hJe4IU2IIj0wxU8xshQPiMrEIizAlLguPxJR4ZIqZYuZTBGFKXBMGcZMpZoqZDxKrsCEuEy9gipliZkt8gvgVTDFTzBQzxUwxU8wUM8VMMVPMFDPFTDFT7A9TD0FQbhtJaQAAAABJRU5ErkJg\">"
      ],
      "text/plain": [
       "28×84 MosaicView{Gray{N0f8}, 4, Base.ReshapedArray{Gray{N0f8}, 4, PaddedView{Gray{N0f8}, 3, Tuple{Base.OneTo{Int64}, Base.OneTo{Int64}, Base.OneTo{Int64}}, Array{Gray{N0f8}, 3}}, Tuple{Base.MultiplicativeInverses.SignedMultiplicativeInverse{Int64}, Base.MultiplicativeInverses.SignedMultiplicativeInverse{Int64}}}}:\n",
       " Gray{N0f8}(0.0)  Gray{N0f8}(0.0)  …  Gray{N0f8}(0.0)  Gray{N0f8}(0.0)\n",
       " Gray{N0f8}(0.0)  Gray{N0f8}(0.0)     Gray{N0f8}(0.0)  Gray{N0f8}(0.0)\n",
       " Gray{N0f8}(0.0)  Gray{N0f8}(0.0)     Gray{N0f8}(0.0)  Gray{N0f8}(0.0)\n",
       " Gray{N0f8}(0.0)  Gray{N0f8}(0.0)     Gray{N0f8}(0.0)  Gray{N0f8}(0.0)\n",
       " Gray{N0f8}(0.0)  Gray{N0f8}(0.0)     Gray{N0f8}(0.0)  Gray{N0f8}(0.0)\n",
       " Gray{N0f8}(0.0)  Gray{N0f8}(0.0)  …  Gray{N0f8}(0.0)  Gray{N0f8}(0.0)\n",
       " Gray{N0f8}(0.0)  Gray{N0f8}(0.0)     Gray{N0f8}(0.0)  Gray{N0f8}(0.0)\n",
       " Gray{N0f8}(0.0)  Gray{N0f8}(0.0)     Gray{N0f8}(0.0)  Gray{N0f8}(0.0)\n",
       " Gray{N0f8}(0.0)  Gray{N0f8}(0.0)     Gray{N0f8}(0.0)  Gray{N0f8}(0.0)\n",
       " Gray{N0f8}(0.0)  Gray{N0f8}(0.0)     Gray{N0f8}(0.0)  Gray{N0f8}(0.0)\n",
       " Gray{N0f8}(0.0)  Gray{N0f8}(0.0)  …  Gray{N0f8}(0.0)  Gray{N0f8}(0.0)\n",
       " Gray{N0f8}(0.0)  Gray{N0f8}(0.0)     Gray{N0f8}(0.0)  Gray{N0f8}(0.0)\n",
       " Gray{N0f8}(0.0)  Gray{N0f8}(0.0)     Gray{N0f8}(0.0)  Gray{N0f8}(0.0)\n",
       " ⋮                                 ⋱                   \n",
       " Gray{N0f8}(0.0)  Gray{N0f8}(0.0)     Gray{N0f8}(0.0)  Gray{N0f8}(0.0)\n",
       " Gray{N0f8}(0.0)  Gray{N0f8}(0.0)     Gray{N0f8}(0.0)  Gray{N0f8}(0.0)\n",
       " Gray{N0f8}(0.0)  Gray{N0f8}(0.0)     Gray{N0f8}(0.0)  Gray{N0f8}(0.0)\n",
       " Gray{N0f8}(0.0)  Gray{N0f8}(0.0)     Gray{N0f8}(0.0)  Gray{N0f8}(0.0)\n",
       " Gray{N0f8}(0.0)  Gray{N0f8}(0.0)  …  Gray{N0f8}(0.0)  Gray{N0f8}(0.0)\n",
       " Gray{N0f8}(0.0)  Gray{N0f8}(0.0)     Gray{N0f8}(0.0)  Gray{N0f8}(0.0)\n",
       " Gray{N0f8}(0.0)  Gray{N0f8}(0.0)     Gray{N0f8}(0.0)  Gray{N0f8}(0.0)\n",
       " Gray{N0f8}(0.0)  Gray{N0f8}(0.0)     Gray{N0f8}(0.0)  Gray{N0f8}(0.0)\n",
       " Gray{N0f8}(0.0)  Gray{N0f8}(0.0)     Gray{N0f8}(0.0)  Gray{N0f8}(0.0)\n",
       " Gray{N0f8}(0.0)  Gray{N0f8}(0.0)  …  Gray{N0f8}(0.0)  Gray{N0f8}(0.0)\n",
       " Gray{N0f8}(0.0)  Gray{N0f8}(0.0)     Gray{N0f8}(0.0)  Gray{N0f8}(0.0)\n",
       " Gray{N0f8}(0.0)  Gray{N0f8}(0.0)     Gray{N0f8}(0.0)  Gray{N0f8}(0.0)"
      ]
     },
     "metadata": {},
     "output_type": "display_data"
    },
    {
     "data": {
      "image/png": "[encoded data removed]",
      "text/html": [
       "<img src=\"data:image/png;base64,iVBORw0KGgoAAAANSUhEUgAAAPwAAABUCAAAAACDjwU4AAAABGdBTUEAALGPC/xhBQAAAAFzUkdCAK7OHOkAAAAgY0hSTQAAeiYAAICEAAD6AAAAgOgAAHUwAADqYAAAOpgAABdwnLpRPAAAAr5JREFUeAHlwVGO40YUBDAW8O5/5Qo60EKQV7bHzuSryfFHiVOJX1biqRL/ixI3xsbGxsYfcRGHEm+UOJT4RnygxE/FvbGxsbHxlxKneC9Oca/EGyV+JA4llPjY2NjY2PhLHEoo8QvivfiREodQYqlT3CtxGBsbGxvPxRI/UuIzJe6VeCpOtdSjEjfiNDY2NjZ+Q30jlhKP4l4JJZa6iEOJixKHEsvY2NjY+KPE9+JLca/Eo1jiEE+VOMUpDmNjY2PjXyW+VEuJj9VTcSihxE+Fem9sbGxsSoiLWuJRid9RS6h7JdQhPlA/MjY2NjZxI5RaYikhfkcdSihxqIv4TSWWEsbGxsbGVQm1xCnu1ffiEKdQvyBeiWVsbGxsXIU61RI3SrxS4qL+qxLfi4uxsbGx8a8Sj+pQ4qKEOsWjOJR4FE+Fuhfv1aHEqcTF2NjY2JQQr4QSp1CneCWWEmqJp+oQ/1UsJZZ4NDY2NjbxKNQSh1pKXIQS79VSj0qc6gMlXikhnhobGxsbf6lHsZQSSy31I3WKi7gItcRSYilxUeKpWOJQ4sbY2NjYeKnEK/FGnUKJp+pQQhziVEJ8IA4lTmNjY2Pjqk4lTqHUKR6VeKpOJS7qEK/EK3Wqi3g0NjY2Nu7Ej5S4iKfiIi7qF9ShbpRQ4jA2NjY2rkI9FeoU74VaaokbdYhv1FNxKnUxNjY2NiVO9UacSrwXSx3qXnysHsVT8WhsbGxs4l6JQ4kb8bG6ER+rUzxV4qmxsbGxKXEjTvGxEkoc4lT/VfxIHEo8GhsbG5u4CHUq8Y14JU71SomlxGdKHOLG2NjY2PhLnOKVWuKpeC9ulFjiEB+LN8bGxsbGVYkPxP8iPlDiUOKVEkoYGxsbG1fxgbhRYinxC0q8Eqc4lVhKHGKJZWxsbGz8tjjEN0pcxJdCCXFvbGxs7B+Z6LGSv+vP5wAAAABJRU5ErkJg\">"
      ],
      "text/plain": [
       "28×84 MosaicView{Gray{N0f8}, 4, Base.ReshapedArray{Gray{N0f8}, 4, PaddedView{Gray{N0f8}, 3, Tuple{Base.OneTo{Int64}, Base.OneTo{Int64}, Base.OneTo{Int64}}, Array{Gray{N0f8}, 3}}, Tuple{Base.MultiplicativeInverses.SignedMultiplicativeInverse{Int64}, Base.MultiplicativeInverses.SignedMultiplicativeInverse{Int64}}}}:\n",
       " Gray{N0f8}(0.0)  Gray{N0f8}(0.0)  …  Gray{N0f8}(0.0)  Gray{N0f8}(0.0)\n",
       " Gray{N0f8}(0.0)  Gray{N0f8}(0.0)     Gray{N0f8}(0.0)  Gray{N0f8}(0.0)\n",
       " Gray{N0f8}(0.0)  Gray{N0f8}(0.0)     Gray{N0f8}(0.0)  Gray{N0f8}(0.0)\n",
       " Gray{N0f8}(0.0)  Gray{N0f8}(0.0)     Gray{N0f8}(0.0)  Gray{N0f8}(0.0)\n",
       " Gray{N0f8}(0.0)  Gray{N0f8}(0.0)     Gray{N0f8}(0.0)  Gray{N0f8}(0.0)\n",
       " Gray{N0f8}(0.0)  Gray{N0f8}(0.0)  …  Gray{N0f8}(0.0)  Gray{N0f8}(0.0)\n",
       " Gray{N0f8}(0.0)  Gray{N0f8}(0.0)     Gray{N0f8}(0.0)  Gray{N0f8}(0.0)\n",
       " Gray{N0f8}(0.0)  Gray{N0f8}(0.0)     Gray{N0f8}(0.0)  Gray{N0f8}(0.0)\n",
       " Gray{N0f8}(1.0)  Gray{N0f8}(0.0)     Gray{N0f8}(0.0)  Gray{N0f8}(0.0)\n",
       " Gray{N0f8}(0.0)  Gray{N0f8}(0.0)     Gray{N0f8}(1.0)  Gray{N0f8}(0.0)\n",
       " Gray{N0f8}(0.0)  Gray{N0f8}(0.0)  …  Gray{N0f8}(0.0)  Gray{N0f8}(0.0)\n",
       " Gray{N0f8}(0.0)  Gray{N0f8}(0.0)     Gray{N0f8}(0.0)  Gray{N0f8}(0.0)\n",
       " Gray{N0f8}(0.0)  Gray{N0f8}(0.0)     Gray{N0f8}(0.0)  Gray{N0f8}(0.0)\n",
       " ⋮                                 ⋱                   \n",
       " Gray{N0f8}(0.0)  Gray{N0f8}(0.0)     Gray{N0f8}(0.0)  Gray{N0f8}(0.0)\n",
       " Gray{N0f8}(0.0)  Gray{N0f8}(0.0)     Gray{N0f8}(0.0)  Gray{N0f8}(0.0)\n",
       " Gray{N0f8}(0.0)  Gray{N0f8}(0.0)     Gray{N0f8}(0.0)  Gray{N0f8}(0.0)\n",
       " Gray{N0f8}(0.0)  Gray{N0f8}(0.0)     Gray{N0f8}(0.0)  Gray{N0f8}(0.0)\n",
       " Gray{N0f8}(1.0)  Gray{N0f8}(0.0)  …  Gray{N0f8}(0.0)  Gray{N0f8}(0.0)\n",
       " Gray{N0f8}(0.0)  Gray{N0f8}(0.0)     Gray{N0f8}(0.0)  Gray{N0f8}(0.0)\n",
       " Gray{N0f8}(1.0)  Gray{N0f8}(0.0)     Gray{N0f8}(0.0)  Gray{N0f8}(0.0)\n",
       " Gray{N0f8}(0.0)  Gray{N0f8}(0.0)     Gray{N0f8}(0.0)  Gray{N0f8}(0.0)\n",
       " Gray{N0f8}(0.0)  Gray{N0f8}(0.0)     Gray{N0f8}(0.0)  Gray{N0f8}(0.0)\n",
       " Gray{N0f8}(0.0)  Gray{N0f8}(0.0)  …  Gray{N0f8}(1.0)  Gray{N0f8}(0.0)\n",
       " Gray{N0f8}(0.0)  Gray{N0f8}(0.0)     Gray{N0f8}(0.0)  Gray{N0f8}(0.0)\n",
       " Gray{N0f8}(0.0)  Gray{N0f8}(0.0)     Gray{N0f8}(0.0)  Gray{N0f8}(0.0)"
      ]
     },
     "metadata": {},
     "output_type": "display_data"
    },
    {
     "data": {
      "image/png": "[encoded data removed]",
      "text/html": [
       "<img src=\"data:image/png;base64,iVBORw0KGgoAAAANSUhEUgAAAPwAAABUCAAAAACDjwU4AAAABGdBTUEAALGPC/xhBQAAAAFzUkdCAK7OHOkAAAAgY0hSTQAAeiYAAICEAAD6AAAAgOgAAHUwAADqYAAAOpgAABdwnLpRPAAAAYBJREFUeAHlwYmK3EAAQ8En0P//soLB0HjiXh9zbaIqU8wUM8VMMVPMFDPFTDFTzPxHwiCOmWKmmHmRgPiCcJ8pZoqZVwjfETbEKhAQB0wxU8z8y8RTTDFTzDwt3BemxNuZYqaY2RMW4o3CgYB4L1PMFDNzAfEWYRAb4XNMMVPMzIlj4bKwEjsE4QXEMVPMFDN/CauwEsfEsTCI7zPFTDFzQkDsCL9ROMsUM8XMjwRhERAbYRDHwiCmwkq8nSlmipk5sRCLQEDsEMfCIH4LU8wUM1cExCJcEAZxiniKOMUUM8XMOYKwQxwIGwExFT7KFDPFzFYYAmIQBMK7hJW4LwxhhxhMMVPM7BGniAvET8JK3BdWYSogVqaYKWa2BGFKEK4RhEVYiB1hJe4IU2IIj0wxU8xshQPiMrEIizAlLguPxJR4ZIqZYuZTBGFKXBMGcZMpZoqZDxKrsCEuEy9gipliZkt8gvgVTDFTzBQzxUwxU8wUM8VMMVPMFDPFTDFT7A9TD0FQbhtJaQAAAABJRU5ErkJg\">"
      ],
      "text/plain": [
       "28×84 MosaicView{Gray{N0f8}, 4, Base.ReshapedArray{Gray{N0f8}, 4, PaddedView{Gray{N0f8}, 3, Tuple{Base.OneTo{Int64}, Base.OneTo{Int64}, Base.OneTo{Int64}}, Array{Gray{N0f8}, 3}}, Tuple{Base.MultiplicativeInverses.SignedMultiplicativeInverse{Int64}, Base.MultiplicativeInverses.SignedMultiplicativeInverse{Int64}}}}:\n",
       " Gray{N0f8}(0.0)  Gray{N0f8}(0.0)  …  Gray{N0f8}(0.0)  Gray{N0f8}(0.0)\n",
       " Gray{N0f8}(0.0)  Gray{N0f8}(0.0)     Gray{N0f8}(0.0)  Gray{N0f8}(0.0)\n",
       " Gray{N0f8}(0.0)  Gray{N0f8}(0.0)     Gray{N0f8}(0.0)  Gray{N0f8}(0.0)\n",
       " Gray{N0f8}(0.0)  Gray{N0f8}(0.0)     Gray{N0f8}(0.0)  Gray{N0f8}(0.0)\n",
       " Gray{N0f8}(0.0)  Gray{N0f8}(0.0)     Gray{N0f8}(0.0)  Gray{N0f8}(0.0)\n",
       " Gray{N0f8}(0.0)  Gray{N0f8}(0.0)  …  Gray{N0f8}(0.0)  Gray{N0f8}(0.0)\n",
       " Gray{N0f8}(0.0)  Gray{N0f8}(0.0)     Gray{N0f8}(0.0)  Gray{N0f8}(0.0)\n",
       " Gray{N0f8}(0.0)  Gray{N0f8}(0.0)     Gray{N0f8}(0.0)  Gray{N0f8}(0.0)\n",
       " Gray{N0f8}(0.0)  Gray{N0f8}(0.0)     Gray{N0f8}(0.0)  Gray{N0f8}(0.0)\n",
       " Gray{N0f8}(0.0)  Gray{N0f8}(0.0)     Gray{N0f8}(0.0)  Gray{N0f8}(0.0)\n",
       " Gray{N0f8}(0.0)  Gray{N0f8}(0.0)  …  Gray{N0f8}(0.0)  Gray{N0f8}(0.0)\n",
       " Gray{N0f8}(0.0)  Gray{N0f8}(0.0)     Gray{N0f8}(0.0)  Gray{N0f8}(0.0)\n",
       " Gray{N0f8}(0.0)  Gray{N0f8}(0.0)     Gray{N0f8}(0.0)  Gray{N0f8}(0.0)\n",
       " ⋮                                 ⋱                   \n",
       " Gray{N0f8}(0.0)  Gray{N0f8}(0.0)     Gray{N0f8}(0.0)  Gray{N0f8}(0.0)\n",
       " Gray{N0f8}(0.0)  Gray{N0f8}(0.0)     Gray{N0f8}(0.0)  Gray{N0f8}(0.0)\n",
       " Gray{N0f8}(0.0)  Gray{N0f8}(0.0)     Gray{N0f8}(0.0)  Gray{N0f8}(0.0)\n",
       " Gray{N0f8}(0.0)  Gray{N0f8}(0.0)     Gray{N0f8}(0.0)  Gray{N0f8}(0.0)\n",
       " Gray{N0f8}(0.0)  Gray{N0f8}(0.0)  …  Gray{N0f8}(0.0)  Gray{N0f8}(0.0)\n",
       " Gray{N0f8}(0.0)  Gray{N0f8}(0.0)     Gray{N0f8}(0.0)  Gray{N0f8}(0.0)\n",
       " Gray{N0f8}(0.0)  Gray{N0f8}(0.0)     Gray{N0f8}(0.0)  Gray{N0f8}(0.0)\n",
       " Gray{N0f8}(0.0)  Gray{N0f8}(0.0)     Gray{N0f8}(0.0)  Gray{N0f8}(0.0)\n",
       " Gray{N0f8}(0.0)  Gray{N0f8}(0.0)     Gray{N0f8}(0.0)  Gray{N0f8}(0.0)\n",
       " Gray{N0f8}(0.0)  Gray{N0f8}(0.0)  …  Gray{N0f8}(0.0)  Gray{N0f8}(0.0)\n",
       " Gray{N0f8}(0.0)  Gray{N0f8}(0.0)     Gray{N0f8}(0.0)  Gray{N0f8}(0.0)\n",
       " Gray{N0f8}(0.0)  Gray{N0f8}(0.0)     Gray{N0f8}(0.0)  Gray{N0f8}(0.0)"
      ]
     },
     "metadata": {},
     "output_type": "display_data"
    }
   ],
   "source": [
    "# @show converged\n",
    "display(mosaicview(Gray.(pattern),nrow=1))\n",
    "display(mosaicview(Gray.(pattern_masked),nrow=1))\n",
    "display(mosaicview(Gray.(recalls),nrow=1))\n"
   ]
  },
  {
   "cell_type": "markdown",
   "metadata": {},
   "source": [
    "__Much better :)__"
   ]
  },
  {
   "cell_type": "markdown",
   "metadata": {},
   "source": [
    "# Training on random pattern"
   ]
  },
  {
   "cell_type": "markdown",
   "metadata": {},
   "source": [
    "While Hebbian learning does not seem to work well for correlated patterns like MNIST digits, it performs well on random data.\n",
    "\n",
    "Here we investigate how recall accuracy behaves as a function of the number of stored random patterns. Theory dicates that there is a phase transition at $L/N \\sim 0.138$ where $L$ is number of patterns and $N$ their dimension."
   ]
  },
  {
   "cell_type": "markdown",
   "metadata": {},
   "source": [
    "## Setup"
   ]
  },
  {
   "cell_type": "markdown",
   "metadata": {},
   "source": [
    "`r` is the linear dimension (28 for MNIST above) of our samples."
   ]
  },
  {
   "cell_type": "code",
   "execution_count": 250,
   "metadata": {},
   "outputs": [
    {
     "data": {
      "text/plain": [
       "n_samples (generic function with 1 method)"
      ]
     },
     "execution_count": 250,
     "metadata": {},
     "output_type": "execute_result"
    }
   ],
   "source": [
    "n_samples(r) = round.(Int, [0.01, 0.05, 0.08, 0.10, 0.12, 0.13, 0.14, 0.15, 0.16, 0.20, 0.4, 0.6].*r^2)"
   ]
  },
  {
   "cell_type": "markdown",
   "metadata": {
    "editable": true,
    "slideshow": {
     "slide_type": ""
    },
    "tags": []
   },
   "source": [
    "## Training loop"
   ]
  },
  {
   "cell_type": "code",
   "execution_count": 247,
   "metadata": {},
   "outputs": [],
   "source": [
    "import Random"
   ]
  },
  {
   "cell_type": "code",
   "execution_count": 248,
   "metadata": {},
   "outputs": [
    {
     "data": {
      "text/plain": [
       "Random.TaskLocalRNG()"
      ]
     },
     "execution_count": 248,
     "metadata": {},
     "output_type": "execute_result"
    }
   ],
   "source": [
    "Random.seed!(1234)"
   ]
  },
  {
   "cell_type": "code",
   "execution_count": 251,
   "metadata": {
    "editable": true,
    "slideshow": {
     "slide_type": ""
    },
    "tags": []
   },
   "outputs": [
    {
     "name": "stderr",
     "output_type": "stream",
     "text": [
      "\u001b[32mProgress: 100%|█████████████████████████████████████████| Time: 0:00:00\u001b[39m\n",
      "\u001b[32mProgress: 100%|█████████████████████████████████████████| Time: 0:00:00\u001b[39m\n",
      "\u001b[32mProgress: 100%|█████████████████████████████████████████| Time: 0:00:00\u001b[39m\n",
      "\u001b[32mProgress: 100%|█████████████████████████████████████████| Time: 0:00:01\u001b[39m\n",
      "\u001b[32mProgress: 100%|█████████████████████████████████████████| Time: 0:00:00\u001b[39m\n",
      "\u001b[32mProgress: 100%|█████████████████████████████████████████| Time: 0:00:00\u001b[39m\n",
      "\u001b[32mProgress: 100%|█████████████████████████████████████████| Time: 0:00:00\u001b[39m\n",
      "\u001b[32mProgress: 100%|█████████████████████████████████████████| Time: 0:00:00\u001b[39m\n",
      "\u001b[32mProgress: 100%|█████████████████████████████████████████| Time: 0:00:00\u001b[39m\n",
      "\u001b[32mProgress: 100%|█████████████████████████████████████████| Time: 0:00:00\u001b[39m\n",
      "\u001b[32mProgress: 100%|█████████████████████████████████████████| Time: 0:00:01\u001b[39m\n",
      "\u001b[32mProgress: 100%|█████████████████████████████████████████| Time: 0:00:00\u001b[39m\n",
      "\u001b[32mProgress: 100%|█████████████████████████████████████████| Time: 0:00:00\u001b[39m\n",
      "\u001b[32mProgress: 100%|█████████████████████████████████████████| Time: 0:00:01\u001b[39m\n",
      "\u001b[32mProgress: 100%|█████████████████████████████████████████| Time: 0:00:00\u001b[39m\n",
      "\u001b[32mProgress: 100%|█████████████████████████████████████████| Time: 0:00:00\u001b[39m\n",
      "\u001b[32mProgress: 100%|█████████████████████████████████████████| Time: 0:00:00\u001b[39m\n",
      "\u001b[32mProgress: 100%|█████████████████████████████████████████| Time: 0:00:00\u001b[39m\n",
      "\u001b[32mProgress: 100%|█████████████████████████████████████████| Time: 0:00:00\u001b[39m\n",
      "\u001b[32mProgress: 100%|█████████████████████████████████████████| Time: 0:00:00\u001b[39m\n",
      "\u001b[32mProgress: 100%|█████████████████████████████████████████| Time: 0:00:00\u001b[39m\n",
      "\u001b[32mProgress: 100%|█████████████████████████████████████████| Time: 0:00:01\u001b[39m\n"
     ]
    },
    {
     "name": "stdout",
     "output_type": "stream",
     "text": [
      " 15.310978 seconds (3.45 M allocations: 3.924 GiB, 8.62% gc time, 12.64% compilation time)\n"
     ]
    }
   ],
   "source": [
    "r = 16\n",
    "H = ContinuousHopfieldNetwork(r^2)\n",
    "@time lossconviters = map(repeat([r],outer=6)) do _r\n",
    "    nsamples = n_samples(_r)\n",
    "    loss = Vector{Vector{Float64}}()\n",
    "    conv = Vector{Vector{Int}}()\n",
    "    iters = Vector{Vector{Int}}()\n",
    "    for n in nsamples\n",
    "        lci = measure_recall_random(_r, n; H=H, p_noise=0.0,\n",
    "            # loss=(p,r)->reshape(binarycrossentropy((r.+1)./2, (p.+1)./2, agg=x->mean(x, dims=1)), :),\n",
    "            # loss=overlap,\n",
    "            loss=(p,r)->reshape(hinge_loss(r,p, agg=x->mean(x, dims=1)), :),\n",
    "            maxiter=2000, verbose=false)\n",
    "        # @show typeof(lci)\n",
    "        push!(loss, getindex(lci, 1))\n",
    "        push!(conv, getindex(lci, 2))\n",
    "        push!(iters, getindex(lci, 3))\n",
    "    end\n",
    "    (;loss, conv, iters)\n",
    "end;"
   ]
  },
  {
   "cell_type": "code",
   "execution_count": 16,
   "metadata": {
    "editable": true,
    "slideshow": {
     "slide_type": ""
    },
    "tags": []
   },
   "outputs": [],
   "source": [
    "using CairoMakie"
   ]
  },
  {
   "cell_type": "code",
   "execution_count": 252,
   "metadata": {
    "editable": true,
    "slideshow": {
     "slide_type": ""
    },
    "tags": []
   },
   "outputs": [
    {
     "data": {
      "image/png": "[encoded data removed]"
     },
     "execution_count": 252,
     "metadata": {},
     "output_type": "execute_result"
    }
   ],
   "source": [
    "xrange = n_samples(r) ./ r^2\n",
    "yseries = reduce(vcat, map(lossconviters) do x\n",
    "    reshape(reduce(hcat, mean.(x[:loss])), 1, :)\n",
    "end)\n",
    "fig, ax, plt = series(xrange, yseries, marker=:circle, axis=(xlabel=\"L/N\", ylabel=\"recall rate\"), labels=[\"$r\" for _ in axes(yseries,1)])\n",
    "axislegend(ax)\n",
    "vlines!(ax, 0.138)\n",
    "\n",
    "means = reshape(mean(yseries, dims=1), :)\n",
    "vars = reshape(var(yseries, dims=1), :)\n",
    "\n",
    "scatterlines(fig[1,2], xrange, means)\n",
    "errorbars!(xrange, means, sqrt.(vars))\n",
    "vlines!(0.138)\n",
    "\n",
    "fig\n"
   ]
  }
 ],
 "metadata": {
  "kernelspec": {
   "display_name": "Julia 1.9.1",
   "language": "julia",
   "name": "julia-1.9"
  },
  "language_info": {
   "file_extension": ".jl",
   "mimetype": "application/julia",
   "name": "julia",
   "version": "1.9.1"
  }
 },
 "nbformat": 4,
 "nbformat_minor": 4
}
